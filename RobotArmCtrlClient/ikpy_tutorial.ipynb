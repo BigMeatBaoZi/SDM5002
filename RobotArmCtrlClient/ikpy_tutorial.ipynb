{
 "cells": [
  {
   "cell_type": "code",
   "execution_count": 1,
   "metadata": {},
   "outputs": [],
   "source": [
    "import ikpy.chain\n",
    "import numpy as np\n",
    "import ikpy.utils.plot as plot_utils"
   ]
  },
  {
   "cell_type": "code",
   "execution_count": 2,
   "metadata": {},
   "outputs": [
    {
     "name": "stderr",
     "output_type": "stream",
     "text": [
      "d:\\Programs\\anaconda3\\envs\\mycobot\\lib\\site-packages\\ikpy\\chain.py:60: UserWarning: Link Base link (index: 0) is of type 'fixed' but set as active in the active_links_mask. In practice, this fixed link doesn't provide any transformation so is as it were inactive\n",
      "  warnings.warn(\"Link {} (index: {}) is of type 'fixed' but set as active in the active_links_mask. In practice, this fixed link doesn't provide any transformation so is as it were inactive\".format(link.name, link_index))\n"
     ]
    }
   ],
   "source": [
    "my_chain = ikpy.chain.Chain.from_urdf_file('./mycobot_desc/mycobot_urdf.urdf')"
   ]
  },
  {
   "cell_type": "code",
   "execution_count": 3,
   "metadata": {},
   "outputs": [
    {
     "name": "stdout",
     "output_type": "stream",
     "text": [
      "The angles of each joints are :  [ 0.          1.08118744  0.16312311 -0.98661692 -0.32541177  0.53879222\n",
      "  0.        ]\n"
     ]
    }
   ],
   "source": [
    "target_position = [ 0.1, 0.1, 0.3]\n",
    "print(\"The angles of each joints are : \", my_chain.inverse_kinematics(target_position))"
   ]
  },
  {
   "cell_type": "code",
   "execution_count": 21,
   "metadata": {},
   "outputs": [
    {
     "name": "stdout",
     "output_type": "stream",
     "text": [
      "Computed position vector : [0.08658549 0.17317044 0.36398968], original position vector : [0.1, 0.2, 0.4]\n"
     ]
    }
   ],
   "source": [
    "real_frame = my_chain.forward_kinematics(my_chain.inverse_kinematics(target_position))\n",
    "print(\"Computed position vector : %s, original position vector : %s\" % (real_frame[:3, 3], target_position))"
   ]
  },
  {
   "cell_type": "code",
   "execution_count": null,
   "metadata": {},
   "outputs": [],
   "source": [
    "# Optional: support for 3D plotting in the NB\n",
    "# If there is a matplotlib error, uncomment the next line, and comment the line below it.\n",
    "%matplotlib inline\n",
    "import matplotlib.pyplot as plt\n",
    "fig, ax = plot_utils.init_3d_figure()\n",
    "my_chain.plot(my_chain.inverse_kinematics(target_position), ax, target=target_position)\n",
    "plt.xlim(-0.1, 0.1)\n",
    "plt.ylim(-0.1, 0.1)"
   ]
  }
 ],
 "metadata": {
  "interpreter": {
   "hash": "350f025c150219241b6c00156e28d44bd7818d90021d0acd875248f227f4723b"
  },
  "kernelspec": {
   "display_name": "Python 3.8.12 ('mycobot')",
   "language": "python",
   "name": "python3"
  },
  "language_info": {
   "codemirror_mode": {
    "name": "ipython",
    "version": 3
   },
   "file_extension": ".py",
   "mimetype": "text/x-python",
   "name": "python",
   "nbconvert_exporter": "python",
   "pygments_lexer": "ipython3",
   "version": "3.8.12"
  },
  "orig_nbformat": 4
 },
 "nbformat": 4,
 "nbformat_minor": 2
}
